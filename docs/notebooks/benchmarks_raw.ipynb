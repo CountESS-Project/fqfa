{
 "cells": [
  {
   "cell_type": "code",
   "execution_count": null,
   "metadata": {},
   "outputs": [],
   "source": [
    "import pyfastx\n",
    "from fqfa.fastq.fastq import parse_fastq_reads"
   ]
  },
  {
   "cell_type": "markdown",
   "metadata": {},
   "source": [
    "# Benchmark 1: list of reads\n",
    "\n",
    "This code creates a list containing all the reads in the file.\n",
    "Note that the data structures for the reads are quite different, with two being package-specific objects and one being a tuple."
   ]
  },
  {
   "cell_type": "markdown",
   "metadata": {},
   "source": [
    "## pyfastx with index\n",
    "\n",
    "Much of the time spent in the first example is likely spent building the ``.fxi`` index file.\n",
    "This file enables direct access into the FASTQ file, which we are not using here.\n",
    "The index is quite large, much larger than the reads in this case:\n",
    "\n",
    "```\n",
    "334M    BRCA1_input_sample.fq\n",
    " 48M    BRCA1_input_sample.fq.bz2\n",
    "511M    BRCA1_input_sample.fq.fxi\n",
    " 68M    BRCA1_input_sample.fq.gz\n",
    "513M    BRCA1_input_sample.fq.gz.fxi\n",
    "```"
   ]
  },
  {
   "cell_type": "code",
   "execution_count": null,
   "metadata": {},
   "outputs": [],
   "source": [
    "%time reads = [x for x in pyfastx.Fastq(\"BRCA1_input_sample.fq\")]\n",
    "for x in reads[:5]:\n",
    "    print(repr(x))\n",
    "del reads"
   ]
  },
  {
   "cell_type": "markdown",
   "metadata": {},
   "source": [
    "## pyfastx without index\n",
    "\n",
    "This is by far the fastest for just reading data from the file, but it doesn't perform any extra computation or quality value conversion."
   ]
  },
  {
   "cell_type": "code",
   "execution_count": null,
   "metadata": {},
   "outputs": [],
   "source": [
    "%time reads = [x for x in pyfastx.Fastq(\"BRCA1_input_sample.fq\", build_index=False)]\n",
    "for x in reads[:5]:\n",
    "    print(x)\n",
    "del reads"
   ]
  },
  {
   "cell_type": "markdown",
   "metadata": {},
   "source": [
    "## fqfa\n",
    "\n",
    "Unlike pyfastx, fqfa takes an open file handle rather than a file name.\n",
    "In these examples, this is addressed using a context created by a with statement."
   ]
  },
  {
   "cell_type": "code",
   "execution_count": null,
   "metadata": {},
   "outputs": [],
   "source": [
    "with open(\"BRCA1_input_sample.fq\") as handle:\n",
    "    %time reads = [x for x in parse_fastq_reads(handle)]\n",
    "for x in reads[:5]:\n",
    "    print(x)\n",
    "del reads"
   ]
  },
  {
   "cell_type": "markdown",
   "metadata": {},
   "source": [
    "# Benchmark 2: summarized quality statistics\n",
    "\n",
    "This code calculates the median average read quality for all reads in the file."
   ]
  },
  {
   "cell_type": "code",
   "execution_count": null,
   "metadata": {},
   "outputs": [],
   "source": [
    "from statistics import mean, median"
   ]
  },
  {
   "cell_type": "markdown",
   "metadata": {},
   "source": [
    "## pyfastx with index\n",
    "\n",
    "pyfastx provides integer quality values as part of its FASTQ read data structure."
   ]
  },
  {
   "cell_type": "code",
   "execution_count": null,
   "metadata": {},
   "outputs": [],
   "source": [
    "%time read_quals = [mean(x.quali) for x in pyfastx.Fastq(\"BRCA1_input_sample.fq\")]\n",
    "print(f\"Median average quality is {median(read_quals)}\")\n",
    "del read_quals"
   ]
  },
  {
   "cell_type": "markdown",
   "metadata": {},
   "source": [
    "## pyfastx without index\n",
    "\n",
    "The timing here is quite a bit closer to the others, since the conversion and calculation has not already been performed as part of processing the input file."
   ]
  },
  {
   "cell_type": "code",
   "execution_count": null,
   "metadata": {},
   "outputs": [],
   "source": [
    "%time read_quals = [mean([ord(c) - 33 for c in x[2]]) for x in pyfastx.Fastq(\"BRCA1_input_sample.fq\", build_index=False)]\n",
    "print(f\"Median average quality is {median(read_quals)}\")\n",
    "del read_quals"
   ]
  },
  {
   "cell_type": "markdown",
   "metadata": {},
   "source": [
    "## fqfa\n",
    "\n",
    "This code uses the ``average_quality()`` method implemented by the FastqRead class."
   ]
  },
  {
   "cell_type": "code",
   "execution_count": null,
   "metadata": {},
   "outputs": [],
   "source": [
    "with open(\"BRCA1_input_sample.fq\") as handle:\n",
    "    %time read_quals = [x.average_quality() for x in parse_fastq_reads(handle)]\n",
    "print(f\"Median average quality is {median(read_quals)}\")\n",
    "del read_quals"
   ]
  },
  {
   "cell_type": "markdown",
   "metadata": {},
   "source": [
    "# Benchmark 3: filtering reads on quality\n",
    "\n",
    "This code creates a list of reads for which all bases are at least Q20.\n",
    "The performance and usage in this section is quite a bit faster than Benchmark 2 following recent performance improvements in pyfastx."
   ]
  },
  {
   "cell_type": "markdown",
   "metadata": {},
   "source": [
    "## pyfastx with index"
   ]
  },
  {
   "cell_type": "code",
   "execution_count": null,
   "metadata": {},
   "outputs": [],
   "source": [
    "%time filt_reads = [x for x in pyfastx.Fastq(\"BRCA1_input_sample.fq\") if min(x.quali) >= 20]\n",
    "print(f\"Kept {len(filt_reads)} reads after applying filter.\")\n",
    "del filt_reads"
   ]
  },
  {
   "cell_type": "markdown",
   "metadata": {},
   "source": [
    "## pyfastx without index"
   ]
  },
  {
   "cell_type": "code",
   "execution_count": null,
   "metadata": {},
   "outputs": [],
   "source": [
    "%time filt_reads = [x for x in pyfastx.Fastq(\"BRCA1_input_sample.fq\", build_index=False) if min([ord(c) - 33 for c in x[2]]) >= 20]\n",
    "print(f\"Kept {len(filt_reads)} reads after applying filter.\")\n",
    "del filt_reads"
   ]
  },
  {
   "cell_type": "markdown",
   "metadata": {},
   "source": [
    "## fqfa\n",
    "\n",
    "This code uses the ``min_quality()`` method implemented by the FastqRead class."
   ]
  },
  {
   "cell_type": "code",
   "execution_count": null,
   "metadata": {},
   "outputs": [],
   "source": [
    "with open(\"BRCA1_input_sample.fq\") as handle:\n",
    "    %time filt_reads = [x for x in parse_fastq_reads(handle) if x.min_quality() >= 20]\n",
    "print(f\"Kept {len(filt_reads)} reads after applying filter.\")\n",
    "del filt_reads"
   ]
  }
 ],
 "metadata": {
  "kernelspec": {
   "display_name": "Python 3",
   "language": "python",
   "name": "python3"
  },
  "language_info": {
   "codemirror_mode": {
    "name": "ipython",
    "version": 3
   },
   "file_extension": ".py",
   "mimetype": "text/x-python",
   "name": "python",
   "nbconvert_exporter": "python",
   "pygments_lexer": "ipython3",
   "version": "3.8.2"
  }
 },
 "nbformat": 4,
 "nbformat_minor": 4
}
