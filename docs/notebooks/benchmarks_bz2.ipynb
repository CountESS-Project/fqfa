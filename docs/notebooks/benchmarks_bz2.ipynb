{
 "cells": [
  {
   "cell_type": "code",
   "execution_count": null,
   "metadata": {},
   "outputs": [],
   "source": [
    "from fqfa.fastq.fastq import parse_fastq_reads\n",
    "from fqfa.util.file import open_compressed"
   ]
  },
  {
   "cell_type": "markdown",
   "metadata": {},
   "source": [
    "# Benchmark 1: list of reads\n",
    "\n",
    "This code creates a list containing all the reads in the file.\n",
    "Note that the data structures for the reads are quite different, with two being package-specific objects and one being a tuple.\n",
    "\n",
    "Because pyfastx does not support bzip2, these results are most useful for comparing with fqfa's gzip benchmarks."
   ]
  },
  {
   "cell_type": "markdown",
   "metadata": {},
   "source": [
    "## fqfa\n",
    "\n",
    "Unlike pyfastx, fqfa takes an open file handle rather than a file name.\n",
    "In these examples, this is addressed using a context created by a with statement."
   ]
  },
  {
   "cell_type": "code",
   "execution_count": null,
   "metadata": {},
   "outputs": [],
   "source": [
    "with open_compressed(\"BRCA1_input_sample.fq.bz2\") as handle:\n",
    "    %time reads = [x for x in parse_fastq_reads(handle)]\n",
    "for x in reads[:5]:\n",
    "    print(x)\n",
    "del reads"
   ]
  },
  {
   "cell_type": "markdown",
   "metadata": {},
   "source": [
    "# Benchmark 2: summarized quality statistics\n",
    "\n",
    "This code calculates the median average read quality for all reads in the file."
   ]
  },
  {
   "cell_type": "code",
   "execution_count": null,
   "metadata": {},
   "outputs": [],
   "source": [
    "from statistics import median"
   ]
  },
  {
   "cell_type": "markdown",
   "metadata": {},
   "source": [
    "## fqfa\n",
    "\n",
    "This code uses the ``average_quality()`` method implemented by the FastqRead class."
   ]
  },
  {
   "cell_type": "code",
   "execution_count": null,
   "metadata": {},
   "outputs": [],
   "source": [
    "with open_compressed(\"BRCA1_input_sample.fq.bz2\") as handle:\n",
    "    %time read_quals = [x.average_quality() for x in parse_fastq_reads(handle)]\n",
    "print(f\"Median average quality is {median(read_quals)}\")\n",
    "del read_quals"
   ]
  },
  {
   "cell_type": "markdown",
   "metadata": {},
   "source": [
    "# Benchmark 3: filtering reads on quality\n",
    "\n",
    "This code creates a list of reads for which all bases are at least Q20.\n",
    "The performance and usage in this section is quite similar to Benchmark 2."
   ]
  },
  {
   "cell_type": "markdown",
   "metadata": {},
   "source": [
    "## fqfa\n",
    "\n",
    "This code uses the ``min_quality()`` method implemented by the FastqRead class."
   ]
  },
  {
   "cell_type": "code",
   "execution_count": null,
   "metadata": {},
   "outputs": [],
   "source": [
    "with open_compressed(\"BRCA1_input_sample.fq.bz2\") as handle:\n",
    "    %time filt_reads = [x for x in parse_fastq_reads(handle) if x.min_quality() >= 20]\n",
    "print(f\"Kept {len(filt_reads)} reads after applying filter.\")\n",
    "del filt_reads"
   ]
  },
  {
   "cell_type": "code",
   "execution_count": null,
   "metadata": {},
   "outputs": [],
   "source": []
  },
  {
   "cell_type": "code",
   "execution_count": null,
   "metadata": {},
   "outputs": [],
   "source": []
  }
 ],
 "metadata": {
  "kernelspec": {
   "display_name": "Python 3",
   "language": "python",
   "name": "python3"
  },
  "language_info": {
   "codemirror_mode": {
    "name": "ipython",
    "version": 3
   },
   "file_extension": ".py",
   "mimetype": "text/x-python",
   "name": "python",
   "nbconvert_exporter": "python",
   "pygments_lexer": "ipython3",
   "version": "3.7.5rc1"
  },
  "pycharm": {
   "stem_cell": {
    "cell_type": "raw",
    "source": [],
    "metadata": {
     "collapsed": false
    }
   }
  }
 },
 "nbformat": 4,
 "nbformat_minor": 4
}